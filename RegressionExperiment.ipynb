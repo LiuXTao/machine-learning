{
 "cells": [
  {
   "cell_type": "code",
   "execution_count": 142,
   "metadata": {
    "collapsed": true
   },
   "outputs": [],
   "source": [
    "import numpy as np\n",
    "import matplotlib.pyplot as plt\n",
    "from sklearn.externals.joblib import Memory\n",
    "from sklearn.datasets import load_svmlight_file\n",
    "from sklearn.model_selection import train_test_split\n",
    "men=Memory(\"./mycache\")"
   ]
  },
  {
   "cell_type": "code",
   "execution_count": 143,
   "metadata": {
    "collapsed": true
   },
   "outputs": [],
   "source": [
    "#定义读取数据函数\n",
    "def get_data():\n",
    "    data=load_svmlight_file('./housing_scale')\n",
    "    return data[0].todense(),data[1]"
   ]
  },
  {
   "cell_type": "code",
   "execution_count": 144,
   "metadata": {
    "collapsed": true
   },
   "outputs": [],
   "source": [
    "#读取数据\n",
    "X,y=get_data()\n",
    "#将Y转为n*1的列向量\n",
    "y=np.reshape(y,(len(y),1))"
   ]
  },
  {
   "cell_type": "code",
   "execution_count": 145,
   "metadata": {
    "collapsed": true
   },
   "outputs": [],
   "source": [
    "#切分训练集和测试集\n",
    "X_train,X_valid,y_train,y_valid=train_test_split(X,y,test_size=0.3,random_state=42)#分割数据集\n",
    "#获取训练集的横纵维度\n",
    "(n,m)=np.shape(X_train)\n",
    "#为训练集加入一列，作为bias列\n",
    "X_train=np.hstack((X_train,np.ones((n,1))))\n",
    "#获取训练集的横纵维度\n",
    "(n,m)=np.shape(X_valid)\n",
    "#测试集加入一列，作为bias列\n",
    "X_valid=np.hstack((X_valid,np.ones((n,1))))"
   ]
  },
  {
   "cell_type": "code",
   "execution_count": 146,
   "metadata": {
    "collapsed": true
   },
   "outputs": [],
   "source": [
    "def squareloss(X,w,y):    #loss函数使用平方差损失韩式 sum(x-y)^2/((2n)\n",
    "    y_predict=X*w         #预测结果\n",
    "    s=y_predict-y         #预测值和真实值差值\n",
    "    result=np.square(s)   #对插值进行平方\n",
    "    return np.sum(result)/(2*len(y))"
   ]
  },
  {
   "cell_type": "markdown",
   "metadata": {},
   "source": [
    "squareloss的公式为:\n",
    "$$L=\\frac{1}{2n}\\sum_{i=1}^{n}(y_i-y)^2$$"
   ]
  },
  {
   "cell_type": "code",
   "execution_count": 147,
   "metadata": {
    "collapsed": true
   },
   "outputs": [],
   "source": [
    "\n",
    "def gradient(X,w,y,lam=0):     #梯度算法 lam为正则化参数,默认设置为0\n",
    "    grad=lam*w+X.T*(X*w-y)    #根据梯度公式求得\n",
    "    return grad\n"
   ]
  },
  {
   "cell_type": "markdown",
   "metadata": {},
   "source": [
    "梯度公式为:\n",
    "   $$gradient=X^T(XW-y)$$"
   ]
  },
  {
   "cell_type": "code",
   "execution_count": 148,
   "metadata": {
    "collapsed": true
   },
   "outputs": [],
   "source": [
    "#定义梯度下降函数\n",
    "def LinearRegression(X,y,w,lamda,epco,eta,gradient=gradient,loss=squareloss):\n",
    "    grad=0\n",
    "    loss_train=[]\n",
    "    loss_test=[]\n",
    "    #for循环内开始梯度下降\n",
    "    for i in range(epco):\n",
    "        grad=gradient(X,w,y,lamda)            #获得新的梯度\n",
    "        w=w-eta*grad                            #梯度下降公式\n",
    "        loss_train.append(loss(X,w,y))   #计算训练误差\n",
    "        loss_test.append(loss(X_valid,w,y_valid))      #计算测试误差\n",
    "    return loss_train,loss_test"
   ]
  },
  {
   "cell_type": "markdown",
   "metadata": {},
   "source": [
    "梯度下降公式：\n",
    "    $$W_t=W_{t-1}-\\eta \\frac {\\partial J}{\\partial w}$$"
   ]
  },
  {
   "cell_type": "code",
   "execution_count": 155,
   "metadata": {
    "collapsed": true
   },
   "outputs": [],
   "source": [
    "#获取权重函数\n",
    "(n,m)=np.shape(X_valid)\n",
    "#定义权重矩阵，维度为(m+1)*1\n",
    "w=np.zeros((m,1))\n",
    "\n",
    "#定义迭代次数\n",
    "epco=1000                \n",
    "times=range(epco)   \n",
    "\n",
    "loss_train=[]             #训练集误差\n",
    "loss_test=[]              #测试集误差\n",
    "eta=0.001                   #学习率\n"
   ]
  },
  {
   "cell_type": "code",
   "execution_count": 156,
   "metadata": {},
   "outputs": [
    {
     "name": "stdout",
     "output_type": "stream",
     "text": [
      "11.2727693277\n",
      "10.7634155621\n"
     ]
    }
   ],
   "source": [
    "loss_train,loss_test=LinearRegression(X=X_train,y=y_train,w=w,eta=eta,lamda=0,epco=epco)\n",
    "#显示最后的loss\n",
    "print(loss_train[-1])\n",
    "print(loss_test[-1])"
   ]
  },
  {
   "cell_type": "code",
   "execution_count": 157,
   "metadata": {
    "scrolled": true
   },
   "outputs": [
    {
     "data": {
      "image/png": "[encoded data removed]",
      "text/plain": [
       "<matplotlib.figure.Figure at 0x26f230f0f98>"
      ]
     },
     "metadata": {},
     "output_type": "display_data"
    }
   ],
   "source": [
    "plt.xlabel('times')\n",
    "plt.ylabel('loss')\n",
    "plt.title(\"Linear Regression\")\n",
    "plt.plot(times,loss_train,label='training set')\n",
    "plt.plot(times,loss_test,label='test set')\n",
    "plt.legend()\n",
    "plt.show()"
   ]
  },
  {
   "cell_type": "code",
   "execution_count": null,
   "metadata": {
    "collapsed": true
   },
   "outputs": [],
   "source": []
  },
  {
   "cell_type": "code",
   "execution_count": null,
   "metadata": {
    "collapsed": true
   },
   "outputs": [],
   "source": []
  }
 ],
 "metadata": {
  "kernelspec": {
   "display_name": "Python 3",
   "language": "python",
   "name": "python3"
  },
  "language_info": {
   "codemirror_mode": {
    "name": "ipython",
    "version": 3
   },
   "file_extension": ".py",
   "mimetype": "text/x-python",
   "name": "python",
   "nbconvert_exporter": "python",
   "pygments_lexer": "ipython3",
   "version": "3.6.2"
  }
 },
 "nbformat": 4,
 "nbformat_minor": 2
}
