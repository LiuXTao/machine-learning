{
 "cells": [
  {
   "cell_type": "code",
   "execution_count": 420,
   "metadata": {
    "collapsed": true
   },
   "outputs": [],
   "source": [
    "import numpy as np\n",
    "import matplotlib.pyplot as plt\n",
    "from sklearn.externals.joblib import Memory\n",
    "from sklearn.datasets import load_svmlight_file\n",
    "from sklearn.model_selection import train_test_split"
   ]
  },
  {
   "cell_type": "code",
   "execution_count": 421,
   "metadata": {
    "collapsed": true
   },
   "outputs": [],
   "source": [
    "#定义读取数据掉得函数\n",
    "def get_data():\n",
    "    data=load_svmlight_file('./australian_scale')\n",
    "    return data[0].todense(),data[1]\n",
    "#获取数据\n",
    "X,y=get_data()\n",
    "#将y值置为n*1的列向量\n",
    "y=np.reshape(y,(len(y),1))"
   ]
  },
  {
   "cell_type": "code",
   "execution_count": 422,
   "metadata": {
    "collapsed": true
   },
   "outputs": [],
   "source": [
    "#切分训练集和验证集\n",
    "X_train,X_valid,y_train,y_valid=train_test_split(X,y,test_size=0.3,random_state=22)"
   ]
  },
  {
   "cell_type": "code",
   "execution_count": 423,
   "metadata": {
    "collapsed": true
   },
   "outputs": [],
   "source": [
    "#定义损失函数hinge loss\n",
    "def hingeloss(X,y,w):\n",
    "    l=1-np.multiply(y,X*w)              #先做点乘\n",
    "    l2=(l>=0)                           #然后求出哪个元素大于等于0，化成布尔矩阵\n",
    "    result=np.multiply(l,l2)            #通过点乘进行筛选，大于等于0的项保留，小于0的项清除变为0\n",
    "    return np.mean(result)"
   ]
  },
  {
   "cell_type": "markdown",
   "metadata": {},
   "source": [
    "hingeloss公式：\n",
    "$$hingeloss=\\xi=max(0,1-y_i(W^Tx_i+b))$$"
   ]
  },
  {
   "cell_type": "code",
   "execution_count": 424,
   "metadata": {
    "collapsed": true
   },
   "outputs": [],
   "source": [
    "#准确率计算函数\n",
    "def accuracy(X,w,y):\n",
    "    threshold=0.5                          #选则阈值\n",
    "    y_predict=X*w                          #得到X，w的预测结果\n",
    "    val=np.multiply(y,y_predict)\n",
    "    N=np.zeros((len(y),1))                  \n",
    "    N[val>=threshold]=1      #与y预测值与y真实值相乘,积大于阈值赋值1，表示分类正确,否则为0及分类错误，得到表示结果正确与否的0-1列向量\n",
    "    return np.mean(N)                 #得到准确率"
   ]
  },
  {
   "cell_type": "code",
   "execution_count": 425,
   "metadata": {
    "collapsed": true
   },
   "outputs": [],
   "source": [
    "#梯度公式\n",
    "def gradient(X,y,w,C):\n",
    "    l=1-np.multiply(y,X*w)          #先做点乘\n",
    "    l2=(l>=0)                       #然后求出哪个元素大于等于0，化成布尔矩阵\n",
    "    tmp=np.multiply(y,l2)           #通过点乘进行筛选，大于等于0的项保留，小于0的项清除变为0\n",
    "    return w-C*np.sum(np.multiply(X,tmp),0).T  #计算最终梯度\n"
   ]
  },
  {
   "cell_type": "markdown",
   "metadata": {},
   "source": [
    "梯度公式：\n",
    "$$gradient=w-C\\sum_{i=1}^{n}(x_iy_i)y\\__i$$\n",
    "其中$y\\__i$=1 if $y_i(w^Tx_i)<1 $ else $y\\__i=0$ "
   ]
  },
  {
   "cell_type": "code",
   "execution_count": 426,
   "metadata": {
    "collapsed": true
   },
   "outputs": [],
   "source": [
    "#获取训练集的维度\n",
    "(n,m)=np.shape(X_train)\n",
    "#训练集增加一列，作为bias\n",
    "X_train=np.hstack((X_train,np.ones((n,1))))\n",
    "#获取测试集的维度\n",
    "(n,m)=np.shape(X_valid)\n",
    "#测试集增加一列，作为bias\n",
    "X_valid=np.hstack((X_valid,np.ones((n,1))))\n",
    "# 使用正态初始化\n",
    "w=np.random.standard_normal([X.shape[1]+1,1])"
   ]
  },
  {
   "cell_type": "code",
   "execution_count": 427,
   "metadata": {
    "collapsed": true
   },
   "outputs": [],
   "source": [
    "#设置迭代次数\n",
    "epco=5000\n",
    "times=range(epco)    #迭代次数\n",
    "#初始化参数\n",
    "eta=0.0001\n",
    "C=0.5"
   ]
  },
  {
   "cell_type": "code",
   "execution_count": 428,
   "metadata": {
    "collapsed": true
   },
   "outputs": [],
   "source": [
    "#定义SVM分类函数\n",
    "def SVMClassification(X,y,w,eta,epco,C,gradient=gradient,loss=hingeloss,accuracy=accuracy):\n",
    "    l_train=[]             #训练集误差\n",
    "    l_test=[]              #测试集误差\n",
    "    train_accuracy=[]\n",
    "    test_accuracy=[]\n",
    "    for  i in range(epco):\n",
    "        grad=gradient(X,y,w,C)\n",
    "        w=w-eta*(grad)\n",
    "        train_accuracy.append(accuracy(X,w,y))\n",
    "        test_accuracy.append(accuracy(X_valid,w,y_valid))\n",
    "        l_train.append(hingeloss(X,y,w))\n",
    "        l_test.append(hingeloss(X_valid,y_valid,w))\n",
    "    return l_train,l_test,train_accuracy,test_accuracy"
   ]
  },
  {
   "cell_type": "code",
   "execution_count": 429,
   "metadata": {},
   "outputs": [
    {
     "name": "stdout",
     "output_type": "stream",
     "text": [
      "0.859213250518\n",
      "0.850241545894\n"
     ]
    }
   ],
   "source": [
    "l_train,l_test,train_accuracy,test_accuracy=SVMClassification(X=X_train,y=y_train,w=w,eta=eta,epco=epco,C=C)\n",
    "print(train_accuracy[-1])\n",
    "print(test_accuracy[-1])   "
   ]
  },
  {
   "cell_type": "code",
   "execution_count": 430,
   "metadata": {},
   "outputs": [
    {
     "data": {
      "image/png": "[encoded data removed]",
      "text/plain": [
       "<matplotlib.figure.Figure at 0x1bf856edda0>"
      ]
     },
     "metadata": {},
     "output_type": "display_data"
    }
   ],
   "source": [
    "plt.title(\"SVM Classification (loss)\")\n",
    "plt.xlabel('times')\n",
    "plt.ylabel(\"loss\")\n",
    "plt.title(\"SVM Linear Classification\")\n",
    "plt.plot(times,l_train,label=\"trainging set\")\n",
    "plt.plot(times,l_test,label=\"testing set\")\n",
    "\n",
    "plt.legend()\n",
    "plt.show()"
   ]
  },
  {
   "cell_type": "code",
   "execution_count": 431,
   "metadata": {},
   "outputs": [
    {
     "data": {
      "image/png": "[encoded data removed]",
      "text/plain": [
       "<matplotlib.figure.Figure at 0x1bf858a10f0>"
      ]
     },
     "metadata": {},
     "output_type": "display_data"
    }
   ],
   "source": [
    "plt.title(\"SVM Classification (accuracy)\")\n",
    "plt.xlabel('times')\n",
    "plt.ylabel('accuracy')\n",
    "plt.plot(times,train_accuracy,label=\"training set\")\n",
    "plt.plot(times,test_accuracy,label=\"test set\")\n",
    "plt.legend()\n",
    "plt.show()"
   ]
  },
  {
   "cell_type": "code",
   "execution_count": null,
   "metadata": {
    "collapsed": true
   },
   "outputs": [],
   "source": []
  },
  {
   "cell_type": "code",
   "execution_count": null,
   "metadata": {
    "collapsed": true
   },
   "outputs": [],
   "source": []
  },
  {
   "cell_type": "code",
   "execution_count": null,
   "metadata": {
    "collapsed": true
   },
   "outputs": [],
   "source": []
  },
  {
   "cell_type": "code",
   "execution_count": null,
   "metadata": {
    "collapsed": true
   },
   "outputs": [],
   "source": []
  }
 ],
 "metadata": {
  "kernelspec": {
   "display_name": "Python 3",
   "language": "python",
   "name": "python3"
  },
  "language_info": {
   "codemirror_mode": {
    "name": "ipython",
    "version": 3
   },
   "file_extension": ".py",
   "mimetype": "text/x-python",
   "name": "python",
   "nbconvert_exporter": "python",
   "pygments_lexer": "ipython3",
   "version": "3.6.2"
  }
 },
 "nbformat": 4,
 "nbformat_minor": 2
}
